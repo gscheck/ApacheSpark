{
 "cells": [
  {
   "cell_type": "code",
   "execution_count": 1,
   "metadata": {},
   "outputs": [
    {
     "name": "stdout",
     "output_type": "stream",
     "text": [
      "   pixel1  pixel2  pixel3  pixel4  pixel5  pixel6  pixel7    pixel8  pixel9  \\\n",
      "0     0.0     0.0     0.0     0.0     0.0     0.0     0.0  0.000000     0.0   \n",
      "1     0.0     0.0     0.0     0.0     0.0     0.0     0.0  0.000000     0.0   \n",
      "2     0.0     0.0     0.0     0.0     0.0     0.0     0.0  0.019608     0.0   \n",
      "\n",
      "   pixel10  ...  pixel776  pixel777  pixel778  pixel779  pixel780  pixel781  \\\n",
      "0      0.0  ...       0.0       0.0  0.000000  0.000000       0.0       0.0   \n",
      "1      0.0  ...       0.0       0.0  0.000000  0.000000       0.0       0.0   \n",
      "2      0.0  ...       0.0       0.0  0.117647  0.168627       0.0       0.0   \n",
      "\n",
      "   pixel782  pixel783  pixel784  label  \n",
      "0       0.0       0.0       0.0      2  \n",
      "1       0.0       0.0       0.0      9  \n",
      "2       0.0       0.0       0.0      6  \n",
      "\n",
      "[3 rows x 785 columns]\n",
      "(60000, 785)\n"
     ]
    }
   ],
   "source": [
    "import pandas as pd\n",
    "training_set = pd.read_csv(\"InitialDataset/fashion-mnist_train.csv\")\n",
    "training_labels = training_set.iloc[:,0].values\n",
    "training_set = training_set.iloc[:,1:].astype('float32').div(255)\n",
    "training_set['label'] = training_labels\n",
    "print(training_set.iloc[:3])\n",
    "print(training_set.shape)\n",
    "\n",
    "pd.DataFrame(training_set).to_csv(\"NormalizedDataset/mnist_training.csv\")"
   ]
  },
  {
   "cell_type": "code",
   "execution_count": 2,
   "metadata": {},
   "outputs": [
    {
     "name": "stdout",
     "output_type": "stream",
     "text": [
      "   pixel1  pixel2  pixel3  pixel4  pixel5  pixel6    pixel7    pixel8  \\\n",
      "0     0.0     0.0     0.0     0.0     0.0     0.0  0.000000  0.035294   \n",
      "1     0.0     0.0     0.0     0.0     0.0     0.0  0.000000  0.000000   \n",
      "2     0.0     0.0     0.0     0.0     0.0     0.0  0.054902  0.207843   \n",
      "\n",
      "     pixel9   pixel10  ...  pixel776  pixel777  pixel778  pixel779  pixel780  \\\n",
      "0  0.031373  0.000000  ...  0.341176  0.219608       0.0  0.000000  0.000000   \n",
      "1  0.000000  0.000000  ...  0.000000  0.000000       0.0  0.000000  0.000000   \n",
      "2  0.388235  0.066667  ...  0.000000  0.000000       0.0  0.247059  0.207843   \n",
      "\n",
      "   pixel781  pixel782  pixel783  pixel784  label  \n",
      "0  0.000000       0.0       0.0       0.0      0  \n",
      "1  0.000000       0.0       0.0       0.0      1  \n",
      "2  0.121569       0.0       0.0       0.0      2  \n",
      "\n",
      "[3 rows x 785 columns]\n",
      "(10000, 785)\n"
     ]
    }
   ],
   "source": [
    "testing_set = pd.read_csv(\"InitialDataset/fashion-mnist_test.csv\")\n",
    "testing_labels = testing_set.iloc[:,0].values\n",
    "testing_set = testing_set.iloc[:,1:].astype('float32').div(255)\n",
    "testing_set['label'] = testing_labels\n",
    "print(testing_set.iloc[:3])\n",
    "print(testing_set.shape)\n",
    "\n",
    "pd.DataFrame(testing_set).to_csv(\"NormalizedDataset/mnist_testing.csv\")"
   ]
  }
 ],
 "metadata": {
  "kernelspec": {
   "display_name": "Python 3",
   "language": "python",
   "name": "python3"
  },
  "language_info": {
   "codemirror_mode": {
    "name": "ipython",
    "version": 3
   },
   "file_extension": ".py",
   "mimetype": "text/x-python",
   "name": "python",
   "nbconvert_exporter": "python",
   "pygments_lexer": "ipython3",
   "version": "3.7.3"
  }
 },
 "nbformat": 4,
 "nbformat_minor": 2
}
