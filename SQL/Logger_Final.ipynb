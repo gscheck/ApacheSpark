{
 "cells": [
  {
   "cell_type": "code",
   "execution_count": 17,
   "metadata": {},
   "outputs": [],
   "source": [
    "import pandas as pd\n",
    "import itertools\n",
    "import time\n",
    "from numpy import random"
   ]
  },
  {
   "cell_type": "code",
   "execution_count": 18,
   "metadata": {},
   "outputs": [
    {
     "name": "stdout",
     "output_type": "stream",
     "text": [
      "Please input the csv file path to create the logs: Sheet1.csv\n"
     ]
    }
   ],
   "source": [
    "csv_file_path = input(\"Please input the csv file path to create the logs: \")"
   ]
  },
  {
   "cell_type": "code",
   "execution_count": 19,
   "metadata": {},
   "outputs": [],
   "source": [
    "# Read the csv file\n",
    "df = pd.read_csv(csv_file_path)"
   ]
  },
  {
   "cell_type": "code",
   "execution_count": 20,
   "metadata": {},
   "outputs": [
    {
     "data": {
      "text/html": [
       "<div>\n",
       "<style scoped>\n",
       "    .dataframe tbody tr th:only-of-type {\n",
       "        vertical-align: middle;\n",
       "    }\n",
       "\n",
       "    .dataframe tbody tr th {\n",
       "        vertical-align: top;\n",
       "    }\n",
       "\n",
       "    .dataframe thead th {\n",
       "        text-align: right;\n",
       "    }\n",
       "</style>\n",
       "<table border=\"1\" class=\"dataframe\">\n",
       "  <thead>\n",
       "    <tr style=\"text-align: right;\">\n",
       "      <th></th>\n",
       "      <th>00000</th>\n",
       "      <th>Vida</th>\n",
       "      <th>MXC123</th>\n",
       "    </tr>\n",
       "  </thead>\n",
       "  <tbody>\n",
       "    <tr>\n",
       "      <th>0</th>\n",
       "      <td>57.0</td>\n",
       "      <td>Kim</td>\n",
       "      <td>HRT54</td>\n",
       "    </tr>\n",
       "    <tr>\n",
       "      <th>1</th>\n",
       "      <td>346.0</td>\n",
       "      <td>Ava</td>\n",
       "      <td>HURT</td>\n",
       "    </tr>\n",
       "    <tr>\n",
       "      <th>2</th>\n",
       "      <td>236.0</td>\n",
       "      <td>Mira</td>\n",
       "      <td>HICH75</td>\n",
       "    </tr>\n",
       "    <tr>\n",
       "      <th>3</th>\n",
       "      <td>1000.0</td>\n",
       "      <td>Azi</td>\n",
       "      <td>H445</td>\n",
       "    </tr>\n",
       "    <tr>\n",
       "      <th>4</th>\n",
       "      <td>647.0</td>\n",
       "      <td>Ravid</td>\n",
       "      <td>KOI889</td>\n",
       "    </tr>\n",
       "  </tbody>\n",
       "</table>\n",
       "</div>"
      ],
      "text/plain": [
       "    00000   Vida  MXC123\n",
       "0    57.0    Kim   HRT54\n",
       "1   346.0    Ava    HURT\n",
       "2   236.0   Mira  HICH75\n",
       "3  1000.0    Azi    H445\n",
       "4   647.0  Ravid  KOI889"
      ]
     },
     "execution_count": 20,
     "metadata": {},
     "output_type": "execute_result"
    }
   ],
   "source": [
    "df.head()"
   ]
  },
  {
   "cell_type": "code",
   "execution_count": null,
   "metadata": {},
   "outputs": [],
   "source": []
  },
  {
   "cell_type": "code",
   "execution_count": 21,
   "metadata": {},
   "outputs": [],
   "source": [
    "# Create a list of unique values per column\n",
    "unique_dict = dict()\n",
    "\n",
    "for col in df.columns:\n",
    "    unique_dict[col] = df[col].unique()\n",
    "    random.shuffle(unique_dict[col])"
   ]
  },
  {
   "cell_type": "code",
   "execution_count": 22,
   "metadata": {},
   "outputs": [],
   "source": [
    "# Take a product of the unique values per column\n",
    "combinations = list(itertools.product(*unique_dict.values()))\n"
   ]
  },
  {
   "cell_type": "code",
   "execution_count": 23,
   "metadata": {},
   "outputs": [],
   "source": [
    "# Perform a random shuffle on the values\n",
    "random.shuffle(combinations)"
   ]
  },
  {
   "cell_type": "code",
   "execution_count": 24,
   "metadata": {},
   "outputs": [
    {
     "name": "stdout",
     "output_type": "stream",
     "text": [
      "57.0, Mira, nan\n",
      "7485.0, Jake, KOI889\n",
      "648.0, Azi, H8192\n",
      "748393.0, Ava, nan\n",
      "74849.0, Jake, H445\n",
      "647.0, Mira, HURT\n",
      "748393.0, Ravid, HICH75\n",
      "74849.0, Zach, 3TRE4\n",
      "nan, Mira, H445\n",
      "647.0, Zach, HURT\n",
      "236.0, Jake, KOI889\n",
      "74849.0, Ava, HURT\n",
      "648.0, Jake, HICH75\n",
      "647.0, Alec, nan\n",
      "57.0, nan, 3TRE4\n",
      "748393.0, Azi, nan\n",
      "7485.0, Ravid, HRT54\n",
      "nan, nan, HICH75\n",
      "7485.0, Jake, HICH75\n",
      "648.0, Ava, HICH75\n",
      "647.0, Mira, Rexii\n",
      "1000.0, Jake, nan\n",
      "1000.0, Lee, HURT\n",
      "648.0, Zach, nan\n",
      "74849.0, Zach, HICH75\n",
      "236.0, Azi, Rexii\n",
      "748393.0, Jake, KOI889\n",
      "7485.0, Jake, H445\n",
      "7485.0, Lee, Rexii\n",
      "74849.0, Lee, HRT54\n",
      "236.0, Alec, H445\n",
      "57.0, Ravid, TTY665\n",
      "1000.0, Alec, KOI889\n",
      "nan, Lee, HICH75\n",
      "7485.0, Mira, Rexii\n",
      "nan, Azi, KOI889\n",
      "648.0, Jake, nan\n",
      "346.0, Lee, HURT\n",
      "1000.0, Lee, TTY665\n",
      "346.0, Ava, HRT54\n",
      "57.0, Jake, 3TRE4\n",
      "648.0, nan, HRT54\n",
      "346.0, Ravid, KOI889\n",
      "57.0, Kim, KOI889\n",
      "748393.0, Lee, H445\n",
      "57.0, Lee, H8192\n",
      "nan, Kim, H8192\n",
      "74849.0, Mira, HURT\n",
      "236.0, Lee, H8192\n",
      "74849.0, Kim, 3TRE4\n",
      "648.0, nan, H445\n",
      "647.0, Ravid, TTY665\n",
      "1000.0, Lee, H8192\n",
      "236.0, Mira, HRT54\n",
      "236.0, nan, nan\n",
      "74849.0, Lee, Rexii\n",
      "57.0, Alec, H8192\n",
      "nan, Zach, H8192\n",
      "346.0, Alec, KOI889\n",
      "748393.0, Jake, nan\n",
      "74849.0, Ravid, Rexii\n",
      "346.0, nan, nan\n",
      "647.0, Kim, KOI889\n",
      "1000.0, Ravid, nan\n",
      "74849.0, Azi, nan\n",
      "647.0, nan, TTY665\n",
      "648.0, Jake, KOI889\n",
      "346.0, Zach, KOI889\n",
      "7485.0, Jake, TTY665\n",
      "236.0, Alec, TTY665\n",
      "648.0, Jake, H8192\n",
      "74849.0, Mira, TTY665\n",
      "74849.0, Kim, HICH75\n",
      "648.0, nan, nan\n",
      "236.0, Jake, HRT54\n",
      "57.0, Azi, Rexii\n",
      "nan, Ava, KOI889\n",
      "nan, Azi, HRT54\n",
      "nan, Lee, KOI889\n",
      "236.0, Ava, Rexii\n",
      "1000.0, Ravid, TTY665\n",
      "nan, Azi, Rexii\n",
      "57.0, Alec, TTY665\n",
      "57.0, Ava, TTY665\n",
      "nan, Kim, H445\n",
      "748393.0, Zach, H8192\n",
      "7485.0, Zach, H8192\n",
      "7485.0, Lee, nan\n",
      "nan, Mira, HRT54\n",
      "nan, Azi, H445\n",
      "7485.0, Mira, KOI889\n",
      "74849.0, Zach, H445\n",
      "74849.0, Kim, nan\n",
      "1000.0, Mira, 3TRE4\n",
      "7485.0, Ava, H445\n",
      "647.0, Lee, HICH75\n",
      "nan, Zach, HRT54\n",
      "7485.0, Zach, nan\n",
      "74849.0, Zach, H8192\n",
      "346.0, Ava, HICH75\n",
      "648.0, Mira, HURT\n",
      "7485.0, Lee, 3TRE4\n"
     ]
    }
   ],
   "source": [
    "# Print the logs\n",
    "for i, row in enumerate(combinations):\n",
    "    print(\", \".join([str(x) for x in row]))\n",
    "    time.sleep(0.1)\n",
    "    \n",
    "    # printing stop at 100 logs.  \n",
    "    if i > 100:\n",
    "        break\n",
    "    "
   ]
  },
  {
   "cell_type": "code",
   "execution_count": null,
   "metadata": {},
   "outputs": [],
   "source": []
  }
 ],
 "metadata": {
  "kernelspec": {
   "display_name": "Python 3",
   "language": "python",
   "name": "python3"
  },
  "language_info": {
   "codemirror_mode": {
    "name": "ipython",
    "version": 3
   },
   "file_extension": ".py",
   "mimetype": "text/x-python",
   "name": "python",
   "nbconvert_exporter": "python",
   "pygments_lexer": "ipython3",
   "version": "3.6.9"
  }
 },
 "nbformat": 4,
 "nbformat_minor": 2
}
