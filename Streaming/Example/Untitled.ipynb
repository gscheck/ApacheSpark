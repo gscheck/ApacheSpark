{
 "cells": [
  {
   "cell_type": "code",
   "execution_count": 1,
   "metadata": {},
   "outputs": [],
   "source": [
    "import tweepy\n",
    "import json\n",
    "import sys\n",
    "\n",
    "consumer_key= ''\n",
    "consumer_secret= ''\n",
    "access_token= ''\n",
    "access_token_secret= ''\n",
    "\n",
    "auth = tweepy.OAuthHandler(consumer_key, consumer_secret)\n",
    "auth.set_access_token(access_token, access_token_secret)\n",
    "api = tweepy.API(auth)"
   ]
  },
  {
   "cell_type": "code",
   "execution_count": 2,
   "metadata": {},
   "outputs": [],
   "source": [
    "class Listener(tweepy.StreamListener):\n",
    "    \n",
    "    def __init__(self, output_file=sys.stdout):\n",
    "        super(Listener,self).__init__()\n",
    "        self.output_file = output_file\n",
    "    \n",
    "    def on_status(self, status):\n",
    "        print(\"data received\", file=self.output_file)\n",
    "        print(status.text, file=self.output_file)\n",
    "    \n",
    "    def on_error(self, status_code):\n",
    "        print(status_code, file=self.output_file)\n",
    "        return False\n"
   ]
  },
  {
   "cell_type": "code",
   "execution_count": 9,
   "metadata": {},
   "outputs": [
    {
     "name": "stdout",
     "output_type": "stream",
     "text": [
      "Start streaming.\n",
      "Stopped.\n",
      "Done.\n"
     ]
    }
   ],
   "source": [
    "\n",
    "output = open('stream_output.txt', 'w', encoding=\"utf-8\")\n",
    "listener = Listener(output_file=output)\n",
    "\n",
    "stream = tweepy.Stream(auth=api.auth, listener=listener)\n",
    "\n",
    "try:\n",
    "    print('Start streaming.')\n",
    "    stream.sample(languages=['en'])\n",
    "\n",
    "except KeyboardInterrupt:\n",
    "    print(\"Stopped.\")\n",
    "\n",
    "finally:\n",
    "    print('Done.')\n",
    "    stream.disconnect()\n",
    "    output.close()\n",
    "\n",
    "\n"
   ]
  },
  {
   "cell_type": "code",
   "execution_count": null,
   "metadata": {},
   "outputs": [],
   "source": []
  }
 ],
 "metadata": {
  "kernelspec": {
   "display_name": "Python 3",
   "language": "python",
   "name": "python3"
  },
  "language_info": {
   "codemirror_mode": {
    "name": "ipython",
    "version": 3
   },
   "file_extension": ".py",
   "mimetype": "text/x-python",
   "name": "python",
   "nbconvert_exporter": "python",
   "pygments_lexer": "ipython3",
   "version": "3.7.3"
  }
 },
 "nbformat": 4,
 "nbformat_minor": 2
}
